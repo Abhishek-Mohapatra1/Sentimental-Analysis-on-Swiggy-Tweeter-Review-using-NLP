{
 "cells": [
  {
   "cell_type": "code",
   "execution_count": 1,
   "id": "75281960",
   "metadata": {},
   "outputs": [
    {
     "data": {
      "text/html": [
       "        <script type=\"text/javascript\">\n",
       "        window.PlotlyConfig = {MathJaxConfig: 'local'};\n",
       "        if (window.MathJax && window.MathJax.Hub && window.MathJax.Hub.Config) {window.MathJax.Hub.Config({SVG: {font: \"STIX-Web\"}});}\n",
       "        if (typeof require !== 'undefined') {\n",
       "        require.undef(\"plotly\");\n",
       "        requirejs.config({\n",
       "            paths: {\n",
       "                'plotly': ['https://cdn.plot.ly/plotly-2.12.1.min']\n",
       "            }\n",
       "        });\n",
       "        require(['plotly'], function(Plotly) {\n",
       "            window._Plotly = Plotly;\n",
       "        });\n",
       "        }\n",
       "        </script>\n",
       "        "
      ]
     },
     "metadata": {},
     "output_type": "display_data"
    }
   ],
   "source": [
    "import pandas as pd\n",
    "import numpy as np\n",
    "import matplotlib.pyplot as plt\n",
    "import seaborn as sns\n",
    "import re\n",
    "import warnings\n",
    "warnings.filterwarnings('ignore')\n",
    "from plotly.offline import download_plotlyjs, init_notebook_mode, plot, iplot\n",
    "import plotly.express as px\n",
    "import plotly.graph_objects as go\n",
    "import plotly.figure_factory as ff\n",
    "from plotly.colors import n_colors\n",
    "from plotly.subplots import make_subplots\n",
    "init_notebook_mode(connected=True)\n",
    "from wordcloud import WordCloud , ImageColorGenerator\n",
    "import nltk\n",
    "from nltk.corpus import stopwords\n",
    "from textblob import TextBlob\n",
    "from nltk.stem import PorterStemmer\n",
    "from nltk.stem import WordNetLemmatizer\n"
   ]
  },
  {
   "cell_type": "code",
   "execution_count": 2,
   "id": "f15b322d",
   "metadata": {},
   "outputs": [
    {
     "data": {
      "text/plain": [
       "'C:\\\\Users\\\\MAVERICK\\\\OneDrive\\\\Desktop\\\\New folder\\\\Zavi'"
      ]
     },
     "execution_count": 2,
     "metadata": {},
     "output_type": "execute_result"
    }
   ],
   "source": [
    "pwd"
   ]
  },
  {
   "cell_type": "code",
   "execution_count": 3,
   "id": "3dc255e6",
   "metadata": {},
   "outputs": [],
   "source": [
    "data=pd.read_csv('Swiggy Dataset - Sheet1.csv')"
   ]
  },
  {
   "cell_type": "code",
   "execution_count": 4,
   "id": "5f0a0f70",
   "metadata": {},
   "outputs": [
    {
     "data": {
      "text/html": [
       "<div>\n",
       "<style scoped>\n",
       "    .dataframe tbody tr th:only-of-type {\n",
       "        vertical-align: middle;\n",
       "    }\n",
       "\n",
       "    .dataframe tbody tr th {\n",
       "        vertical-align: top;\n",
       "    }\n",
       "\n",
       "    .dataframe thead th {\n",
       "        text-align: right;\n",
       "    }\n",
       "</style>\n",
       "<table border=\"1\" class=\"dataframe\">\n",
       "  <thead>\n",
       "    <tr style=\"text-align: right;\">\n",
       "      <th></th>\n",
       "      <th>date</th>\n",
       "      <th>favorite_count</th>\n",
       "      <th>followers_count</th>\n",
       "      <th>friends_count</th>\n",
       "      <th>full_text</th>\n",
       "      <th>retweet_count</th>\n",
       "      <th>retweeted</th>\n",
       "      <th>screen_name</th>\n",
       "      <th>tweet_id</th>\n",
       "      <th>user_id</th>\n",
       "    </tr>\n",
       "  </thead>\n",
       "  <tbody>\n",
       "    <tr>\n",
       "      <th>0</th>\n",
       "      <td>7/18/2019 22:47</td>\n",
       "      <td>0</td>\n",
       "      <td>82</td>\n",
       "      <td>219</td>\n",
       "      <td>@Mahi_2510 @swiggy_in The ultimate answer will...</td>\n",
       "      <td>0</td>\n",
       "      <td>False</td>\n",
       "      <td>syamantak1</td>\n",
       "      <td>1</td>\n",
       "      <td>61,959,419</td>\n",
       "    </tr>\n",
       "    <tr>\n",
       "      <th>1</th>\n",
       "      <td>7/18/2019 22:43</td>\n",
       "      <td>0</td>\n",
       "      <td>102</td>\n",
       "      <td>129</td>\n",
       "      <td>@SwiggyCares I hope so.</td>\n",
       "      <td>0</td>\n",
       "      <td>False</td>\n",
       "      <td>Bharatbbhushn</td>\n",
       "      <td>2</td>\n",
       "      <td>143,284,383</td>\n",
       "    </tr>\n",
       "    <tr>\n",
       "      <th>2</th>\n",
       "      <td>7/18/2019 22:37</td>\n",
       "      <td>0</td>\n",
       "      <td>102</td>\n",
       "      <td>129</td>\n",
       "      <td>@SwiggyCares I think you have the order detail...</td>\n",
       "      <td>0</td>\n",
       "      <td>False</td>\n",
       "      <td>Bharatbbhushn</td>\n",
       "      <td>3</td>\n",
       "      <td>143,284,383</td>\n",
       "    </tr>\n",
       "    <tr>\n",
       "      <th>3</th>\n",
       "      <td>7/18/2019 22:35</td>\n",
       "      <td>0</td>\n",
       "      <td>13</td>\n",
       "      <td>16</td>\n",
       "      <td>@swiggy_in People are complaining here also, i...</td>\n",
       "      <td>0</td>\n",
       "      <td>False</td>\n",
       "      <td>taifkhalid01</td>\n",
       "      <td>4</td>\n",
       "      <td>830,340,000,000,000,000</td>\n",
       "    </tr>\n",
       "    <tr>\n",
       "      <th>4</th>\n",
       "      <td>7/18/2019 22:25</td>\n",
       "      <td>0</td>\n",
       "      <td>102</td>\n",
       "      <td>129</td>\n",
       "      <td>@SwiggyCares Do you even know the meaning of y...</td>\n",
       "      <td>0</td>\n",
       "      <td>False</td>\n",
       "      <td>Bharatbbhushn</td>\n",
       "      <td>5</td>\n",
       "      <td>143,284,383</td>\n",
       "    </tr>\n",
       "  </tbody>\n",
       "</table>\n",
       "</div>"
      ],
      "text/plain": [
       "              date  favorite_count  followers_count  friends_count  \\\n",
       "0  7/18/2019 22:47               0               82            219   \n",
       "1  7/18/2019 22:43               0              102            129   \n",
       "2  7/18/2019 22:37               0              102            129   \n",
       "3  7/18/2019 22:35               0               13             16   \n",
       "4  7/18/2019 22:25               0              102            129   \n",
       "\n",
       "                                           full_text  retweet_count retweeted  \\\n",
       "0  @Mahi_2510 @swiggy_in The ultimate answer will...              0     False   \n",
       "1                            @SwiggyCares I hope so.              0     False   \n",
       "2  @SwiggyCares I think you have the order detail...              0     False   \n",
       "3  @swiggy_in People are complaining here also, i...              0     False   \n",
       "4  @SwiggyCares Do you even know the meaning of y...              0     False   \n",
       "\n",
       "     screen_name tweet_id                  user_id  \n",
       "0     syamantak1        1               61,959,419  \n",
       "1  Bharatbbhushn        2              143,284,383  \n",
       "2  Bharatbbhushn        3              143,284,383  \n",
       "3   taifkhalid01        4  830,340,000,000,000,000  \n",
       "4  Bharatbbhushn        5              143,284,383  "
      ]
     },
     "execution_count": 4,
     "metadata": {},
     "output_type": "execute_result"
    }
   ],
   "source": [
    "data.head()"
   ]
  },
  {
   "cell_type": "raw",
   "id": "e1a951a4",
   "metadata": {},
   "source": [
    "favorite_count: The number of Tweets this user has liked in the account’s lifetime.\n",
    "retweet_count : The Count of Tweets that you share publicly with your followers is known as a Retweet_count.\n",
    "retweeted     : Did they tweet or not.\n",
    "followers_count: The number of Followers the user has.\n",
    "friends_count : Number of Friends the user has in tweeter \n",
    "user_id       : Unique id of each user\n",
    "tweet_id      : Unique id for each tweet \n",
    "full_text     : full review of text written by user"
   ]
  },
  {
   "cell_type": "code",
   "execution_count": 5,
   "id": "98e19da9",
   "metadata": {},
   "outputs": [
    {
     "name": "stdout",
     "output_type": "stream",
     "text": [
      "<class 'pandas.core.frame.DataFrame'>\n",
      "RangeIndex: 16712 entries, 0 to 16711\n",
      "Data columns (total 10 columns):\n",
      " #   Column           Non-Null Count  Dtype \n",
      "---  ------           --------------  ----- \n",
      " 0   date             16712 non-null  object\n",
      " 1   favorite_count   16712 non-null  int64 \n",
      " 2   followers_count  16712 non-null  int64 \n",
      " 3   friends_count    16712 non-null  int64 \n",
      " 4   full_text        16712 non-null  object\n",
      " 5   retweet_count    16712 non-null  int64 \n",
      " 6   retweeted        14384 non-null  object\n",
      " 7   screen_name      16712 non-null  object\n",
      " 8   tweet_id         16712 non-null  object\n",
      " 9   user_id          16712 non-null  object\n",
      "dtypes: int64(4), object(6)\n",
      "memory usage: 1.3+ MB\n"
     ]
    }
   ],
   "source": [
    "data.info()"
   ]
  },
  {
   "cell_type": "code",
   "execution_count": 6,
   "id": "d37894e9",
   "metadata": {},
   "outputs": [
    {
     "data": {
      "text/plain": [
       "date                  0\n",
       "favorite_count        0\n",
       "followers_count       0\n",
       "friends_count         0\n",
       "full_text             0\n",
       "retweet_count         0\n",
       "retweeted          2328\n",
       "screen_name           0\n",
       "tweet_id              0\n",
       "user_id               0\n",
       "dtype: int64"
      ]
     },
     "execution_count": 6,
     "metadata": {},
     "output_type": "execute_result"
    }
   ],
   "source": [
    "# Checking for Nulls\n",
    "data.isnull().sum()"
   ]
  },
  {
   "cell_type": "markdown",
   "id": "a2561d17",
   "metadata": {},
   "source": [
    "#### Conclusion: We can see some nulls in the \"retweeted\" columns which will be treated."
   ]
  },
  {
   "cell_type": "markdown",
   "id": "f5b7a7c9",
   "metadata": {},
   "source": [
    "### Feature Engineering some of the attributes "
   ]
  },
  {
   "cell_type": "code",
   "execution_count": 7,
   "id": "3dbb61ee",
   "metadata": {},
   "outputs": [],
   "source": [
    "# Converting the \"date\" column from \"object\" to \"datetime\"\n",
    "data['date']=pd.to_datetime(data['date'])"
   ]
  },
  {
   "cell_type": "code",
   "execution_count": 8,
   "id": "9ee33226",
   "metadata": {},
   "outputs": [
    {
     "data": {
      "text/plain": [
       "0        2019-07-18\n",
       "1        2019-07-18\n",
       "2        2019-07-18\n",
       "3        2019-07-18\n",
       "4        2019-07-18\n",
       "            ...    \n",
       "16707    2019-07-11\n",
       "16708    2019-07-11\n",
       "16709    2019-07-11\n",
       "16710    2019-07-11\n",
       "16711    2019-07-11\n",
       "Name: JUST_DATE, Length: 16712, dtype: period[D]"
      ]
     },
     "execution_count": 8,
     "metadata": {},
     "output_type": "execute_result"
    }
   ],
   "source": [
    "# Extracting the date from datetime as a new Attribute as M\n",
    "data['JUST_DATE']=data['date'].dt.to_period('D')\n",
    "data['JUST_DATE']"
   ]
  },
  {
   "cell_type": "code",
   "execution_count": 9,
   "id": "fbc7157f",
   "metadata": {},
   "outputs": [
    {
     "data": {
      "text/plain": [
       "(Period('2019-06-01', 'D'), Period('2019-07-18', 'D'))"
      ]
     },
     "execution_count": 9,
     "metadata": {},
     "output_type": "execute_result"
    }
   ],
   "source": [
    "data['JUST_DATE'].min(),data['JUST_DATE'].max()"
   ]
  },
  {
   "cell_type": "code",
   "execution_count": 10,
   "id": "3620e2e8",
   "metadata": {},
   "outputs": [
    {
     "data": {
      "image/png": "[encoded data removed]",
      "text/plain": [
       "<Figure size 1440x720 with 1 Axes>"
      ]
     },
     "metadata": {
      "needs_background": "light"
     },
     "output_type": "display_data"
    }
   ],
   "source": [
    "data.JUST_DATE.value_counts().plot.bar(figsize=(20,10),title='Count of Tweets done on this date')\n",
    "plt.xlabel('DATE')\n",
    "plt.ylabel('value_counts')\n",
    "plt.xticks(rotation=45)\n",
    "plt.grid()"
   ]
  },
  {
   "cell_type": "markdown",
   "id": "45b4469a",
   "metadata": {},
   "source": [
    "#### Conclusion: As we can understand from the Graph that most of the \"Tweets\" were done on \"2019-06-02\"\n",
    "##### Reasons can be like:\n",
    "1- More Foods were ordered on this day due to which they would have Experiented something bad or Good Experience by Swiggy."
   ]
  },
  {
   "cell_type": "code",
   "execution_count": 11,
   "id": "6412d56a",
   "metadata": {},
   "outputs": [
    {
     "data": {
      "text/html": [
       "<div>\n",
       "<style scoped>\n",
       "    .dataframe tbody tr th:only-of-type {\n",
       "        vertical-align: middle;\n",
       "    }\n",
       "\n",
       "    .dataframe tbody tr th {\n",
       "        vertical-align: top;\n",
       "    }\n",
       "\n",
       "    .dataframe thead th {\n",
       "        text-align: right;\n",
       "    }\n",
       "</style>\n",
       "<table border=\"1\" class=\"dataframe\">\n",
       "  <thead>\n",
       "    <tr style=\"text-align: right;\">\n",
       "      <th></th>\n",
       "      <th>DATE_COUNT</th>\n",
       "    </tr>\n",
       "  </thead>\n",
       "  <tbody>\n",
       "    <tr>\n",
       "      <th>2019-06-01</th>\n",
       "      <td>818</td>\n",
       "    </tr>\n",
       "    <tr>\n",
       "      <th>2019-06-02</th>\n",
       "      <td>908</td>\n",
       "    </tr>\n",
       "    <tr>\n",
       "      <th>2019-06-03</th>\n",
       "      <td>602</td>\n",
       "    </tr>\n",
       "    <tr>\n",
       "      <th>2019-06-12</th>\n",
       "      <td>657</td>\n",
       "    </tr>\n",
       "    <tr>\n",
       "      <th>2019-06-13</th>\n",
       "      <td>652</td>\n",
       "    </tr>\n",
       "  </tbody>\n",
       "</table>\n",
       "</div>"
      ],
      "text/plain": [
       "            DATE_COUNT\n",
       "2019-06-01         818\n",
       "2019-06-02         908\n",
       "2019-06-03         602\n",
       "2019-06-12         657\n",
       "2019-06-13         652"
      ]
     },
     "execution_count": 11,
     "metadata": {},
     "output_type": "execute_result"
    }
   ],
   "source": [
    "DATE_COUNT=data['JUST_DATE'].value_counts()\n",
    "df_reg_count=pd.DataFrame(DATE_COUNT)\n",
    "df_reg_count.rename({'JUST_DATE':'DATE_COUNT'},axis='columns',inplace=True)\n",
    "df_reg_count.sort_index(ascending=True,inplace=True)\n",
    "df_reg_count.head()"
   ]
  },
  {
   "cell_type": "code",
   "execution_count": 12,
   "id": "a05c1910",
   "metadata": {},
   "outputs": [
    {
     "data": {
      "text/plain": [
       "<AxesSubplot:>"
      ]
     },
     "execution_count": 12,
     "metadata": {},
     "output_type": "execute_result"
    },
    {
     "data": {
      "image/png": "[encoded data removed]",
      "text/plain": [
       "<Figure size 1440x720 with 1 Axes>"
      ]
     },
     "metadata": {
      "needs_background": "light"
     },
     "output_type": "display_data"
    }
   ],
   "source": [
    "# To understand the trend in the data\n",
    "df_reg_count['DATE_COUNT'].plot(xlim=['2019-05-30','2019-7-20'],figsize=(20,10),color='r')"
   ]
  },
  {
   "cell_type": "markdown",
   "id": "79c431c7",
   "metadata": {},
   "source": [
    "#### Conclusion: the Trend is going Down So,we can say that maybe the orders have reduced with time or maybe the customer's are not facing much problems So,they stopped tweeting much as before."
   ]
  },
  {
   "cell_type": "code",
   "execution_count": 13,
   "id": "0a59ed91",
   "metadata": {},
   "outputs": [
    {
     "data": {
      "text/plain": [
       "False    14384\n",
       "Name: retweeted, dtype: int64"
      ]
     },
     "execution_count": 13,
     "metadata": {},
     "output_type": "execute_result"
    }
   ],
   "source": [
    "data['retweeted'].value_counts()"
   ]
  },
  {
   "cell_type": "raw",
   "id": "b4d43fc1",
   "metadata": {},
   "source": [
    "Observation: We can only Notice 1 unique value as \"False\" in \"Retweeted\" Column"
   ]
  },
  {
   "cell_type": "code",
   "execution_count": 14,
   "id": "7e4af349",
   "metadata": {},
   "outputs": [
    {
     "data": {
      "text/plain": [
       "0        0\n",
       "1        0\n",
       "2        0\n",
       "3        0\n",
       "4        0\n",
       "        ..\n",
       "16707    0\n",
       "16708    0\n",
       "16709    0\n",
       "16710    0\n",
       "16711    0\n",
       "Name: retweet_count, Length: 14384, dtype: int64"
      ]
     },
     "execution_count": 14,
     "metadata": {},
     "output_type": "execute_result"
    }
   ],
   "source": [
    "data[data['retweeted']==False]['retweet_count']"
   ]
  },
  {
   "cell_type": "code",
   "execution_count": 15,
   "id": "f25f37e7",
   "metadata": {},
   "outputs": [
    {
     "data": {
      "text/html": [
       "<div>\n",
       "<style scoped>\n",
       "    .dataframe tbody tr th:only-of-type {\n",
       "        vertical-align: middle;\n",
       "    }\n",
       "\n",
       "    .dataframe tbody tr th {\n",
       "        vertical-align: top;\n",
       "    }\n",
       "\n",
       "    .dataframe thead th {\n",
       "        text-align: right;\n",
       "    }\n",
       "</style>\n",
       "<table border=\"1\" class=\"dataframe\">\n",
       "  <thead>\n",
       "    <tr style=\"text-align: right;\">\n",
       "      <th></th>\n",
       "      <th>date</th>\n",
       "      <th>favorite_count</th>\n",
       "      <th>followers_count</th>\n",
       "      <th>friends_count</th>\n",
       "      <th>full_text</th>\n",
       "      <th>retweet_count</th>\n",
       "      <th>retweeted</th>\n",
       "      <th>screen_name</th>\n",
       "      <th>tweet_id</th>\n",
       "      <th>user_id</th>\n",
       "      <th>JUST_DATE</th>\n",
       "    </tr>\n",
       "  </thead>\n",
       "  <tbody>\n",
       "    <tr>\n",
       "      <th>9</th>\n",
       "      <td>2019-07-18 22:17:00</td>\n",
       "      <td>0</td>\n",
       "      <td>102</td>\n",
       "      <td>129</td>\n",
       "      <td>I hope you hire educated professionals @swiggy...</td>\n",
       "      <td>1</td>\n",
       "      <td>False</td>\n",
       "      <td>Bharatbbhushn</td>\n",
       "      <td>10</td>\n",
       "      <td>143,284,383</td>\n",
       "      <td>2019-07-18</td>\n",
       "    </tr>\n",
       "    <tr>\n",
       "      <th>40</th>\n",
       "      <td>2019-07-18 20:23:00</td>\n",
       "      <td>0</td>\n",
       "      <td>11</td>\n",
       "      <td>188</td>\n",
       "      <td>@SwiggyCares I have already shared with you bu...</td>\n",
       "      <td>1</td>\n",
       "      <td>False</td>\n",
       "      <td>JRPalai</td>\n",
       "      <td>41</td>\n",
       "      <td>435,769,930</td>\n",
       "      <td>2019-07-18</td>\n",
       "    </tr>\n",
       "    <tr>\n",
       "      <th>98</th>\n",
       "      <td>2019-07-18 18:34:00</td>\n",
       "      <td>0</td>\n",
       "      <td>213</td>\n",
       "      <td>275</td>\n",
       "      <td>@babagolmaal @swiggy @SwiggyCares @UfterYou @A...</td>\n",
       "      <td>1</td>\n",
       "      <td>False</td>\n",
       "      <td>imayank_kothari</td>\n",
       "      <td>99</td>\n",
       "      <td>2,623,291,070</td>\n",
       "      <td>2019-07-18</td>\n",
       "    </tr>\n",
       "    <tr>\n",
       "      <th>122</th>\n",
       "      <td>2019-07-18 18:05:00</td>\n",
       "      <td>1</td>\n",
       "      <td>31</td>\n",
       "      <td>430</td>\n",
       "      <td>@SwiggyCares and @Uber_India @Olacabs please h...</td>\n",
       "      <td>3</td>\n",
       "      <td>False</td>\n",
       "      <td>AmarnathGowtham</td>\n",
       "      <td>123</td>\n",
       "      <td>875,359,000,000,000,000</td>\n",
       "      <td>2019-07-18</td>\n",
       "    </tr>\n",
       "    <tr>\n",
       "      <th>159</th>\n",
       "      <td>2019-07-18 17:21:00</td>\n",
       "      <td>10</td>\n",
       "      <td>3510</td>\n",
       "      <td>1991</td>\n",
       "      <td>Forgot to tweet earlier. \\n \\n My breakfast to...</td>\n",
       "      <td>1</td>\n",
       "      <td>False</td>\n",
       "      <td>saurabh</td>\n",
       "      <td>160</td>\n",
       "      <td>6,325</td>\n",
       "      <td>2019-07-18</td>\n",
       "    </tr>\n",
       "    <tr>\n",
       "      <th>...</th>\n",
       "      <td>...</td>\n",
       "      <td>...</td>\n",
       "      <td>...</td>\n",
       "      <td>...</td>\n",
       "      <td>...</td>\n",
       "      <td>...</td>\n",
       "      <td>...</td>\n",
       "      <td>...</td>\n",
       "      <td>...</td>\n",
       "      <td>...</td>\n",
       "      <td>...</td>\n",
       "    </tr>\n",
       "    <tr>\n",
       "      <th>16653</th>\n",
       "      <td>2019-07-11 13:37:00</td>\n",
       "      <td>0</td>\n",
       "      <td>112</td>\n",
       "      <td>108</td>\n",
       "      <td>@SwiggyCares @azzythejazzy Here's the proof of...</td>\n",
       "      <td>1</td>\n",
       "      <td>False</td>\n",
       "      <td>madan_ashish</td>\n",
       "      <td>16,654</td>\n",
       "      <td>845,840,786</td>\n",
       "      <td>2019-07-11</td>\n",
       "    </tr>\n",
       "    <tr>\n",
       "      <th>16660</th>\n",
       "      <td>2019-07-11 13:26:00</td>\n",
       "      <td>0</td>\n",
       "      <td>10</td>\n",
       "      <td>116</td>\n",
       "      <td>@newproblem @UfterYou @ZomatoIN @Zomato @Zomat...</td>\n",
       "      <td>1</td>\n",
       "      <td>False</td>\n",
       "      <td>deepakwadhawan</td>\n",
       "      <td>16,661</td>\n",
       "      <td>1,022,850,000,000,000,000</td>\n",
       "      <td>2019-07-11</td>\n",
       "    </tr>\n",
       "    <tr>\n",
       "      <th>16679</th>\n",
       "      <td>2019-07-11 13:07:00</td>\n",
       "      <td>5</td>\n",
       "      <td>366</td>\n",
       "      <td>85</td>\n",
       "      <td>Cheated by @swiggy for 500th time, I guess. EX...</td>\n",
       "      <td>4</td>\n",
       "      <td>False</td>\n",
       "      <td>babagolmaal</td>\n",
       "      <td>16,680</td>\n",
       "      <td>3,240,109,257</td>\n",
       "      <td>2019-07-11</td>\n",
       "    </tr>\n",
       "    <tr>\n",
       "      <th>16696</th>\n",
       "      <td>2019-07-11 12:43:00</td>\n",
       "      <td>2</td>\n",
       "      <td>6</td>\n",
       "      <td>24</td>\n",
       "      <td>Terrible product. Thank God that 4-year-old gi...</td>\n",
       "      <td>1</td>\n",
       "      <td>False</td>\n",
       "      <td>PrabhakaranBha2</td>\n",
       "      <td>16,697</td>\n",
       "      <td>3,150,829,422</td>\n",
       "      <td>2019-07-11</td>\n",
       "    </tr>\n",
       "    <tr>\n",
       "      <th>16697</th>\n",
       "      <td>2019-07-11 12:39:00</td>\n",
       "      <td>2</td>\n",
       "      <td>478</td>\n",
       "      <td>1406</td>\n",
       "      <td>Continuing to my previous tweet. @swiggy_in @S...</td>\n",
       "      <td>2</td>\n",
       "      <td>False</td>\n",
       "      <td>Bhartendulkar</td>\n",
       "      <td>16,698</td>\n",
       "      <td>3,378,697,077</td>\n",
       "      <td>2019-07-11</td>\n",
       "    </tr>\n",
       "  </tbody>\n",
       "</table>\n",
       "<p>841 rows × 11 columns</p>\n",
       "</div>"
      ],
      "text/plain": [
       "                     date  favorite_count  followers_count  friends_count  \\\n",
       "9     2019-07-18 22:17:00               0              102            129   \n",
       "40    2019-07-18 20:23:00               0               11            188   \n",
       "98    2019-07-18 18:34:00               0              213            275   \n",
       "122   2019-07-18 18:05:00               1               31            430   \n",
       "159   2019-07-18 17:21:00              10             3510           1991   \n",
       "...                   ...             ...              ...            ...   \n",
       "16653 2019-07-11 13:37:00               0              112            108   \n",
       "16660 2019-07-11 13:26:00               0               10            116   \n",
       "16679 2019-07-11 13:07:00               5              366             85   \n",
       "16696 2019-07-11 12:43:00               2                6             24   \n",
       "16697 2019-07-11 12:39:00               2              478           1406   \n",
       "\n",
       "                                               full_text  retweet_count  \\\n",
       "9      I hope you hire educated professionals @swiggy...              1   \n",
       "40     @SwiggyCares I have already shared with you bu...              1   \n",
       "98     @babagolmaal @swiggy @SwiggyCares @UfterYou @A...              1   \n",
       "122    @SwiggyCares and @Uber_India @Olacabs please h...              3   \n",
       "159    Forgot to tweet earlier. \\n \\n My breakfast to...              1   \n",
       "...                                                  ...            ...   \n",
       "16653  @SwiggyCares @azzythejazzy Here's the proof of...              1   \n",
       "16660  @newproblem @UfterYou @ZomatoIN @Zomato @Zomat...              1   \n",
       "16679  Cheated by @swiggy for 500th time, I guess. EX...              4   \n",
       "16696  Terrible product. Thank God that 4-year-old gi...              1   \n",
       "16697  Continuing to my previous tweet. @swiggy_in @S...              2   \n",
       "\n",
       "      retweeted      screen_name tweet_id                    user_id  \\\n",
       "9         False    Bharatbbhushn       10                143,284,383   \n",
       "40        False          JRPalai       41                435,769,930   \n",
       "98        False  imayank_kothari       99              2,623,291,070   \n",
       "122       False  AmarnathGowtham      123    875,359,000,000,000,000   \n",
       "159       False          saurabh      160                      6,325   \n",
       "...         ...              ...      ...                        ...   \n",
       "16653     False     madan_ashish   16,654                845,840,786   \n",
       "16660     False   deepakwadhawan   16,661  1,022,850,000,000,000,000   \n",
       "16679     False      babagolmaal   16,680              3,240,109,257   \n",
       "16696     False  PrabhakaranBha2   16,697              3,150,829,422   \n",
       "16697     False    Bhartendulkar   16,698              3,378,697,077   \n",
       "\n",
       "        JUST_DATE  \n",
       "9      2019-07-18  \n",
       "40     2019-07-18  \n",
       "98     2019-07-18  \n",
       "122    2019-07-18  \n",
       "159    2019-07-18  \n",
       "...           ...  \n",
       "16653  2019-07-11  \n",
       "16660  2019-07-11  \n",
       "16679  2019-07-11  \n",
       "16696  2019-07-11  \n",
       "16697  2019-07-11  \n",
       "\n",
       "[841 rows x 11 columns]"
      ]
     },
     "execution_count": 15,
     "metadata": {},
     "output_type": "execute_result"
    }
   ],
   "source": [
    "data[(data['retweeted']==False) & (data['retweet_count']>=1)]"
   ]
  },
  {
   "cell_type": "markdown",
   "id": "c06efb64",
   "metadata": {},
   "source": [
    "#### Observation: we can understand from the data that from \"retweeted\" and \"retweet_count\" that some customers have retweeted but its showing \"False\" which need to be changed to \"True\"."
   ]
  },
  {
   "cell_type": "code",
   "execution_count": 16,
   "id": "e0fed5d7",
   "metadata": {},
   "outputs": [
    {
     "data": {
      "text/plain": [
       "False    14384\n",
       "Name: retweeted, dtype: int64"
      ]
     },
     "execution_count": 16,
     "metadata": {},
     "output_type": "execute_result"
    }
   ],
   "source": [
    "data['retweeted'].value_counts()"
   ]
  },
  {
   "cell_type": "code",
   "execution_count": 17,
   "id": "1b1c254b",
   "metadata": {},
   "outputs": [
    {
     "data": {
      "text/plain": [
       "Index(['date', 'favorite_count', 'followers_count', 'friends_count',\n",
       "       'full_text', 'retweet_count', 'retweeted', 'screen_name', 'tweet_id',\n",
       "       'user_id', 'JUST_DATE'],\n",
       "      dtype='object')"
      ]
     },
     "execution_count": 17,
     "metadata": {},
     "output_type": "execute_result"
    }
   ],
   "source": [
    "data.columns"
   ]
  },
  {
   "cell_type": "code",
   "execution_count": 18,
   "id": "328217e2",
   "metadata": {},
   "outputs": [
    {
     "data": {
      "text/html": [
       "<div>\n",
       "<style scoped>\n",
       "    .dataframe tbody tr th:only-of-type {\n",
       "        vertical-align: middle;\n",
       "    }\n",
       "\n",
       "    .dataframe tbody tr th {\n",
       "        vertical-align: top;\n",
       "    }\n",
       "\n",
       "    .dataframe thead th {\n",
       "        text-align: right;\n",
       "    }\n",
       "</style>\n",
       "<table border=\"1\" class=\"dataframe\">\n",
       "  <thead>\n",
       "    <tr style=\"text-align: right;\">\n",
       "      <th></th>\n",
       "      <th>retweet_count</th>\n",
       "      <th>retweeted</th>\n",
       "      <th>JUST_DATE</th>\n",
       "    </tr>\n",
       "  </thead>\n",
       "  <tbody>\n",
       "    <tr>\n",
       "      <th>0</th>\n",
       "      <td>0</td>\n",
       "      <td>False</td>\n",
       "      <td>2019-07-18</td>\n",
       "    </tr>\n",
       "    <tr>\n",
       "      <th>1</th>\n",
       "      <td>0</td>\n",
       "      <td>False</td>\n",
       "      <td>2019-07-18</td>\n",
       "    </tr>\n",
       "    <tr>\n",
       "      <th>2</th>\n",
       "      <td>0</td>\n",
       "      <td>False</td>\n",
       "      <td>2019-07-18</td>\n",
       "    </tr>\n",
       "    <tr>\n",
       "      <th>3</th>\n",
       "      <td>0</td>\n",
       "      <td>False</td>\n",
       "      <td>2019-07-18</td>\n",
       "    </tr>\n",
       "    <tr>\n",
       "      <th>4</th>\n",
       "      <td>0</td>\n",
       "      <td>False</td>\n",
       "      <td>2019-07-18</td>\n",
       "    </tr>\n",
       "    <tr>\n",
       "      <th>...</th>\n",
       "      <td>...</td>\n",
       "      <td>...</td>\n",
       "      <td>...</td>\n",
       "    </tr>\n",
       "    <tr>\n",
       "      <th>16707</th>\n",
       "      <td>0</td>\n",
       "      <td>False</td>\n",
       "      <td>2019-07-11</td>\n",
       "    </tr>\n",
       "    <tr>\n",
       "      <th>16708</th>\n",
       "      <td>0</td>\n",
       "      <td>False</td>\n",
       "      <td>2019-07-11</td>\n",
       "    </tr>\n",
       "    <tr>\n",
       "      <th>16709</th>\n",
       "      <td>0</td>\n",
       "      <td>False</td>\n",
       "      <td>2019-07-11</td>\n",
       "    </tr>\n",
       "    <tr>\n",
       "      <th>16710</th>\n",
       "      <td>0</td>\n",
       "      <td>False</td>\n",
       "      <td>2019-07-11</td>\n",
       "    </tr>\n",
       "    <tr>\n",
       "      <th>16711</th>\n",
       "      <td>0</td>\n",
       "      <td>False</td>\n",
       "      <td>2019-07-11</td>\n",
       "    </tr>\n",
       "  </tbody>\n",
       "</table>\n",
       "<p>16712 rows × 3 columns</p>\n",
       "</div>"
      ],
      "text/plain": [
       "       retweet_count retweeted   JUST_DATE\n",
       "0                  0     False  2019-07-18\n",
       "1                  0     False  2019-07-18\n",
       "2                  0     False  2019-07-18\n",
       "3                  0     False  2019-07-18\n",
       "4                  0     False  2019-07-18\n",
       "...              ...       ...         ...\n",
       "16707              0     False  2019-07-11\n",
       "16708              0     False  2019-07-11\n",
       "16709              0     False  2019-07-11\n",
       "16710              0     False  2019-07-11\n",
       "16711              0     False  2019-07-11\n",
       "\n",
       "[16712 rows x 3 columns]"
      ]
     },
     "execution_count": 18,
     "metadata": {},
     "output_type": "execute_result"
    }
   ],
   "source": [
    "df_tweet=data.drop(['date', 'favorite_count', 'followers_count', 'friends_count',\n",
    "       'full_text','screen_name', 'tweet_id',\n",
    "       'user_id'],axis=1)\n",
    "df_tweet"
   ]
  },
  {
   "cell_type": "code",
   "execution_count": 19,
   "id": "10396651",
   "metadata": {},
   "outputs": [],
   "source": [
    "# Firstly replacing all the Retweet that are \"False\" but showing retweet_count more than and equal to 0 to \"True\"\n",
    "df_tweet[(df_tweet['retweeted']==False) & (df_tweet['retweet_count']>=1)]=True\n"
   ]
  },
  {
   "cell_type": "code",
   "execution_count": 20,
   "id": "a4cc205c",
   "metadata": {},
   "outputs": [],
   "source": [
    "# Treating the Nulls\n",
    "\n",
    "# When retweeted contains nulls and retweet_count is equal to 0 then its \"false\"\n",
    "df_tweet[(df_tweet['retweeted'].isnull()) & (df_tweet['retweet_count']==0)]=False\n",
    "\n",
    "# When retweeted contains nulls and retweet_count is more than or equal to 1 then its \"True\"\n",
    "df_tweet[(df_tweet['retweeted'].isnull()) & (df_tweet['retweet_count']>=1)]=True"
   ]
  },
  {
   "cell_type": "code",
   "execution_count": 21,
   "id": "82b017de",
   "metadata": {},
   "outputs": [
    {
     "data": {
      "text/plain": [
       "False    15734\n",
       "True       978\n",
       "Name: retweeted, dtype: int64"
      ]
     },
     "execution_count": 21,
     "metadata": {},
     "output_type": "execute_result"
    }
   ],
   "source": [
    "df_tweet['retweeted'].value_counts()"
   ]
  },
  {
   "cell_type": "raw",
   "id": "56048441",
   "metadata": {},
   "source": [
    "conclusion: As by checking the value_counts of \"retweeted\" we can conclude that all the nulls are filled properly and it looks for sensible now as before."
   ]
  },
  {
   "cell_type": "code",
   "execution_count": 22,
   "id": "54d37ae0",
   "metadata": {},
   "outputs": [],
   "source": [
    "data.drop(['retweeted','JUST_DATE'],axis=1,inplace=True)\n",
    "df_tweet.drop(['retweet_count'],axis=1,inplace=True)"
   ]
  },
  {
   "cell_type": "code",
   "execution_count": 23,
   "id": "92db49fc",
   "metadata": {},
   "outputs": [
    {
     "data": {
      "text/html": [
       "<div>\n",
       "<style scoped>\n",
       "    .dataframe tbody tr th:only-of-type {\n",
       "        vertical-align: middle;\n",
       "    }\n",
       "\n",
       "    .dataframe tbody tr th {\n",
       "        vertical-align: top;\n",
       "    }\n",
       "\n",
       "    .dataframe thead th {\n",
       "        text-align: right;\n",
       "    }\n",
       "</style>\n",
       "<table border=\"1\" class=\"dataframe\">\n",
       "  <thead>\n",
       "    <tr style=\"text-align: right;\">\n",
       "      <th></th>\n",
       "      <th>date</th>\n",
       "      <th>favorite_count</th>\n",
       "      <th>followers_count</th>\n",
       "      <th>friends_count</th>\n",
       "      <th>full_text</th>\n",
       "      <th>retweet_count</th>\n",
       "      <th>screen_name</th>\n",
       "      <th>tweet_id</th>\n",
       "      <th>user_id</th>\n",
       "      <th>retweeted</th>\n",
       "      <th>JUST_DATE</th>\n",
       "    </tr>\n",
       "  </thead>\n",
       "  <tbody>\n",
       "    <tr>\n",
       "      <th>0</th>\n",
       "      <td>2019-07-18 22:47:00</td>\n",
       "      <td>0</td>\n",
       "      <td>82</td>\n",
       "      <td>219</td>\n",
       "      <td>@Mahi_2510 @swiggy_in The ultimate answer will...</td>\n",
       "      <td>0</td>\n",
       "      <td>syamantak1</td>\n",
       "      <td>1</td>\n",
       "      <td>61,959,419</td>\n",
       "      <td>False</td>\n",
       "      <td>2019-07-18</td>\n",
       "    </tr>\n",
       "    <tr>\n",
       "      <th>1</th>\n",
       "      <td>2019-07-18 22:43:00</td>\n",
       "      <td>0</td>\n",
       "      <td>102</td>\n",
       "      <td>129</td>\n",
       "      <td>@SwiggyCares I hope so.</td>\n",
       "      <td>0</td>\n",
       "      <td>Bharatbbhushn</td>\n",
       "      <td>2</td>\n",
       "      <td>143,284,383</td>\n",
       "      <td>False</td>\n",
       "      <td>2019-07-18</td>\n",
       "    </tr>\n",
       "    <tr>\n",
       "      <th>2</th>\n",
       "      <td>2019-07-18 22:37:00</td>\n",
       "      <td>0</td>\n",
       "      <td>102</td>\n",
       "      <td>129</td>\n",
       "      <td>@SwiggyCares I think you have the order detail...</td>\n",
       "      <td>0</td>\n",
       "      <td>Bharatbbhushn</td>\n",
       "      <td>3</td>\n",
       "      <td>143,284,383</td>\n",
       "      <td>False</td>\n",
       "      <td>2019-07-18</td>\n",
       "    </tr>\n",
       "    <tr>\n",
       "      <th>3</th>\n",
       "      <td>2019-07-18 22:35:00</td>\n",
       "      <td>0</td>\n",
       "      <td>13</td>\n",
       "      <td>16</td>\n",
       "      <td>@swiggy_in People are complaining here also, i...</td>\n",
       "      <td>0</td>\n",
       "      <td>taifkhalid01</td>\n",
       "      <td>4</td>\n",
       "      <td>830,340,000,000,000,000</td>\n",
       "      <td>False</td>\n",
       "      <td>2019-07-18</td>\n",
       "    </tr>\n",
       "    <tr>\n",
       "      <th>4</th>\n",
       "      <td>2019-07-18 22:25:00</td>\n",
       "      <td>0</td>\n",
       "      <td>102</td>\n",
       "      <td>129</td>\n",
       "      <td>@SwiggyCares Do you even know the meaning of y...</td>\n",
       "      <td>0</td>\n",
       "      <td>Bharatbbhushn</td>\n",
       "      <td>5</td>\n",
       "      <td>143,284,383</td>\n",
       "      <td>False</td>\n",
       "      <td>2019-07-18</td>\n",
       "    </tr>\n",
       "  </tbody>\n",
       "</table>\n",
       "</div>"
      ],
      "text/plain": [
       "                 date  favorite_count  followers_count  friends_count  \\\n",
       "0 2019-07-18 22:47:00               0               82            219   \n",
       "1 2019-07-18 22:43:00               0              102            129   \n",
       "2 2019-07-18 22:37:00               0              102            129   \n",
       "3 2019-07-18 22:35:00               0               13             16   \n",
       "4 2019-07-18 22:25:00               0              102            129   \n",
       "\n",
       "                                           full_text  retweet_count  \\\n",
       "0  @Mahi_2510 @swiggy_in The ultimate answer will...              0   \n",
       "1                            @SwiggyCares I hope so.              0   \n",
       "2  @SwiggyCares I think you have the order detail...              0   \n",
       "3  @swiggy_in People are complaining here also, i...              0   \n",
       "4  @SwiggyCares Do you even know the meaning of y...              0   \n",
       "\n",
       "     screen_name tweet_id                  user_id retweeted   JUST_DATE  \n",
       "0     syamantak1        1               61,959,419     False  2019-07-18  \n",
       "1  Bharatbbhushn        2              143,284,383     False  2019-07-18  \n",
       "2  Bharatbbhushn        3              143,284,383     False  2019-07-18  \n",
       "3   taifkhalid01        4  830,340,000,000,000,000     False  2019-07-18  \n",
       "4  Bharatbbhushn        5              143,284,383     False  2019-07-18  "
      ]
     },
     "execution_count": 23,
     "metadata": {},
     "output_type": "execute_result"
    }
   ],
   "source": [
    "df=pd.concat([data,df_tweet],axis=1)\n",
    "df.head()"
   ]
  },
  {
   "cell_type": "code",
   "execution_count": 24,
   "id": "089973ac",
   "metadata": {},
   "outputs": [
    {
     "data": {
      "text/plain": [
       "11480    htTweets\n",
       "Name: screen_name, dtype: object"
      ]
     },
     "execution_count": 24,
     "metadata": {},
     "output_type": "execute_result"
    }
   ],
   "source": [
    "df[df['followers_count']==df['followers_count'].max()]['screen_name']"
   ]
  },
  {
   "cell_type": "markdown",
   "id": "12af289a",
   "metadata": {},
   "source": [
    "#### Observation:  'htTweets' has the most numbers of followers in tweeter"
   ]
  },
  {
   "cell_type": "code",
   "execution_count": 25,
   "id": "6c8a97c2",
   "metadata": {},
   "outputs": [
    {
     "data": {
      "text/plain": [
       "2165    flywithsid\n",
       "Name: screen_name, dtype: object"
      ]
     },
     "execution_count": 25,
     "metadata": {},
     "output_type": "execute_result"
    }
   ],
   "source": [
    "df[df['friends_count']==df['friends_count'].max()]['screen_name']"
   ]
  },
  {
   "cell_type": "markdown",
   "id": "d8ef6b64",
   "metadata": {},
   "source": [
    "#### Observation: \"flywithsid\" have the most friends in tweeter"
   ]
  },
  {
   "cell_type": "code",
   "execution_count": 26,
   "id": "50730f09",
   "metadata": {},
   "outputs": [
    {
     "data": {
      "text/plain": [
       "SandipThink        71\n",
       "SwiggyCares        70\n",
       "Vineeta75481990    53\n",
       "Name: screen_name, dtype: int64"
      ]
     },
     "execution_count": 26,
     "metadata": {},
     "output_type": "execute_result"
    }
   ],
   "source": [
    "df['screen_name'].value_counts().head(3)"
   ]
  },
  {
   "cell_type": "code",
   "execution_count": 27,
   "id": "026bb062",
   "metadata": {},
   "outputs": [
    {
     "data": {
      "image/png": "[encoded data removed]",
      "text/plain": [
       "<Figure size 1440x720 with 1 Axes>"
      ]
     },
     "metadata": {
      "needs_background": "light"
     },
     "output_type": "display_data"
    }
   ],
   "source": [
    "### Count of user_name with respect to tweets\n",
    "plt.figure(figsize = (20,10))\n",
    "df.groupby(['screen_name'])['screen_name'].size().sort_values(ascending= False).head(10).plot(kind='bar')\n",
    "plt.xlabel('User_name')\n",
    "plt.xticks(rotation = 45)\n",
    "plt.ylim(0,90)\n",
    "plt.ylabel('number of times tweeted')\n",
    "plt.title('Count of user_name with respect to tweets for top 10 tweeter user')\n",
    "plt.grid()"
   ]
  },
  {
   "cell_type": "code",
   "execution_count": 28,
   "id": "e8c63a12",
   "metadata": {},
   "outputs": [
    {
     "name": "stdout",
     "output_type": "stream",
     "text": [
      "@SwiggyCares @MirrorofFuture1 Have already stopped using them\n",
      "@mesinghshubham @SwiggyCares Due to this I have stopped using them\n",
      "@SwiggyCares @JainAmitTS They just give copy paste replies to everything without providing a resolution\n",
      "@SwiggyCares @mesinghshubham Don't expect good services from them.. they will just assure you of improving services in future and will keep repeating mistakes\n",
      "@SwiggyCares I'm not initiating any dm\n",
      "@SwiggyCares I have already shared the details many times during last month... I do not have patience nor the time to share details again and again for your convenience\n",
      "@SwiggyCares @shadysachin Don't expect good services from them... They contradict their own statements and customer has to suffer for their poor services.. better to look for alternatives\n"
     ]
    }
   ],
   "source": [
    "for i in df[df['screen_name']=='SandipThink']['full_text'].head(7):\n",
    "    print(i)"
   ]
  },
  {
   "cell_type": "markdown",
   "id": "18fb210c",
   "metadata": {},
   "source": [
    "#### Observation: \"SandipThink\" has tweeted the most  regarding the Complaints about food and delivery which should be solved immediately by Swiggy and there team and should ensure next time even other customers are not facing such problems."
   ]
  },
  {
   "cell_type": "code",
   "execution_count": 29,
   "id": "29b53fdb",
   "metadata": {},
   "outputs": [
    {
     "data": {
      "text/html": [
       "<div>\n",
       "<style scoped>\n",
       "    .dataframe tbody tr th:only-of-type {\n",
       "        vertical-align: middle;\n",
       "    }\n",
       "\n",
       "    .dataframe tbody tr th {\n",
       "        vertical-align: top;\n",
       "    }\n",
       "\n",
       "    .dataframe thead th {\n",
       "        text-align: right;\n",
       "    }\n",
       "</style>\n",
       "<table border=\"1\" class=\"dataframe\">\n",
       "  <thead>\n",
       "    <tr style=\"text-align: right;\">\n",
       "      <th></th>\n",
       "      <th>full_text</th>\n",
       "      <th>JUST_DATE</th>\n",
       "    </tr>\n",
       "  </thead>\n",
       "  <tbody>\n",
       "    <tr>\n",
       "      <th>0</th>\n",
       "      <td>@Mahi_2510 @swiggy_in The ultimate answer will...</td>\n",
       "      <td>2019-07-18</td>\n",
       "    </tr>\n",
       "    <tr>\n",
       "      <th>1</th>\n",
       "      <td>@SwiggyCares I hope so.</td>\n",
       "      <td>2019-07-18</td>\n",
       "    </tr>\n",
       "    <tr>\n",
       "      <th>2</th>\n",
       "      <td>@SwiggyCares I think you have the order detail...</td>\n",
       "      <td>2019-07-18</td>\n",
       "    </tr>\n",
       "    <tr>\n",
       "      <th>3</th>\n",
       "      <td>@swiggy_in People are complaining here also, i...</td>\n",
       "      <td>2019-07-18</td>\n",
       "    </tr>\n",
       "    <tr>\n",
       "      <th>4</th>\n",
       "      <td>@SwiggyCares Do you even know the meaning of y...</td>\n",
       "      <td>2019-07-18</td>\n",
       "    </tr>\n",
       "  </tbody>\n",
       "</table>\n",
       "</div>"
      ],
      "text/plain": [
       "                                           full_text   JUST_DATE\n",
       "0  @Mahi_2510 @swiggy_in The ultimate answer will...  2019-07-18\n",
       "1                            @SwiggyCares I hope so.  2019-07-18\n",
       "2  @SwiggyCares I think you have the order detail...  2019-07-18\n",
       "3  @swiggy_in People are complaining here also, i...  2019-07-18\n",
       "4  @SwiggyCares Do you even know the meaning of y...  2019-07-18"
      ]
     },
     "execution_count": 29,
     "metadata": {},
     "output_type": "execute_result"
    }
   ],
   "source": [
    "df_new=df.drop(['date', 'favorite_count', 'followers_count', 'friends_count','retweet_count', 'retweeted', 'screen_name', 'tweet_id','user_id'],axis=1)\n",
    "df_new.head(5)"
   ]
  },
  {
   "cell_type": "code",
   "execution_count": 30,
   "id": "c8e7c0ea",
   "metadata": {},
   "outputs": [],
   "source": [
    "stopword = nltk.corpus.stopwords.words('english')\n",
    "lemmatizer=WordNetLemmatizer()\n",
    "corpus=[]\n",
    "for i in range(len(df_new)):\n",
    "    review=re.sub('[^a-zA-Z]',' ',df_new['full_text'][i]) # removing all the character other than alphabets\n",
    "    review=review.lower()                  # Lowering all the cases \n",
    "    review=review.split()                  # spliting the sentence -> words for lemmatization\n",
    "    review=[lemmatizer.lemmatize(word) for word in review if word not in set(stopwords.words('english'))] # removing stopwords\n",
    "    review=' '.join(review)                # joining the words to rearrage to form the sent without stop words\n",
    "    corpus.append(review)                  # Appending to corpus"
   ]
  },
  {
   "cell_type": "markdown",
   "id": "8851a6b2",
   "metadata": {},
   "source": [
    "## Sentiment Analysis  \n"
   ]
  },
  {
   "cell_type": "raw",
   "id": "311bed64",
   "metadata": {},
   "source": [
    "Polarity of a sentence lies between ( -1 to 1 ) -1 being Negative and 1 being Positive.A polarity of 0 means Neutral sentiment."
   ]
  },
  {
   "cell_type": "code",
   "execution_count": 31,
   "id": "323cfdb8",
   "metadata": {},
   "outputs": [],
   "source": [
    "def polarity(text):\n",
    "    return TextBlob(text).sentiment.polarity\n",
    "\n",
    "df_new['polarity_score'] = df_new['full_text'].apply(lambda x : polarity(str(x)))\n",
    "\n",
    "def sentiment(x):\n",
    "    if x<0:\n",
    "        return 'negative'\n",
    "    elif x==0:\n",
    "        return 'neutral'\n",
    "    else:\n",
    "        return 'positive'\n",
    "    \n",
    "df_new['polarity'] = df_new['polarity_score'].map(lambda x: sentiment(x))"
   ]
  },
  {
   "cell_type": "code",
   "execution_count": 32,
   "id": "225e96d7",
   "metadata": {},
   "outputs": [
    {
     "data": {
      "application/vnd.plotly.v1+json": {
       "config": {
        "plotlyServerURL": "https://plot.ly"
       },
       "data": [
        {
         "labels": [
          "neutral",
          "negative",
          "positive"
         ],
         "marker": {
          "colors": [
           "#006400",
           "#8B0001",
           "#add8e3"
          ]
         },
         "type": "pie",
         "values": [
          5789,
          5462,
          5461
         ]
        }
       ],
       "layout": {
        "template": {
         "data": {
          "bar": [
           {
            "error_x": {
             "color": "#2a3f5f"
            },
            "error_y": {
             "color": "#2a3f5f"
            },
            "marker": {
             "line": {
              "color": "white",
              "width": 0.5
             },
             "pattern": {
              "fillmode": "overlay",
              "size": 10,
              "solidity": 0.2
             }
            },
            "type": "bar"
           }
          ],
          "barpolar": [
           {
            "marker": {
             "line": {
              "color": "white",
              "width": 0.5
             },
             "pattern": {
              "fillmode": "overlay",
              "size": 10,
              "solidity": 0.2
             }
            },
            "type": "barpolar"
           }
          ],
          "carpet": [
           {
            "aaxis": {
             "endlinecolor": "#2a3f5f",
             "gridcolor": "#C8D4E3",
             "linecolor": "#C8D4E3",
             "minorgridcolor": "#C8D4E3",
             "startlinecolor": "#2a3f5f"
            },
            "baxis": {
             "endlinecolor": "#2a3f5f",
             "gridcolor": "#C8D4E3",
             "linecolor": "#C8D4E3",
             "minorgridcolor": "#C8D4E3",
             "startlinecolor": "#2a3f5f"
            },
            "type": "carpet"
           }
          ],
          "choropleth": [
           {
            "colorbar": {
             "outlinewidth": 0,
             "ticks": ""
            },
            "type": "choropleth"
           }
          ],
          "contour": [
           {
            "colorbar": {
             "outlinewidth": 0,
             "ticks": ""
            },
            "colorscale": [
             [
              0,
              "#0d0887"
             ],
             [
              0.1111111111111111,
              "#46039f"
             ],
             [
              0.2222222222222222,
              "#7201a8"
             ],
             [
              0.3333333333333333,
              "#9c179e"
             ],
             [
              0.4444444444444444,
              "#bd3786"
             ],
             [
              0.5555555555555556,
              "#d8576b"
             ],
             [
              0.6666666666666666,
              "#ed7953"
             ],
             [
              0.7777777777777778,
              "#fb9f3a"
             ],
             [
              0.8888888888888888,
              "#fdca26"
             ],
             [
              1,
              "#f0f921"
             ]
            ],
            "type": "contour"
           }
          ],
          "contourcarpet": [
           {
            "colorbar": {
             "outlinewidth": 0,
             "ticks": ""
            },
            "type": "contourcarpet"
           }
          ],
          "heatmap": [
           {
            "colorbar": {
             "outlinewidth": 0,
             "ticks": ""
            },
            "colorscale": [
             [
              0,
              "#0d0887"
             ],
             [
              0.1111111111111111,
              "#46039f"
             ],
             [
              0.2222222222222222,
              "#7201a8"
             ],
             [
              0.3333333333333333,
              "#9c179e"
             ],
             [
              0.4444444444444444,
              "#bd3786"
             ],
             [
              0.5555555555555556,
              "#d8576b"
             ],
             [
              0.6666666666666666,
              "#ed7953"
             ],
             [
              0.7777777777777778,
              "#fb9f3a"
             ],
             [
              0.8888888888888888,
              "#fdca26"
             ],
             [
              1,
              "#f0f921"
             ]
            ],
            "type": "heatmap"
           }
          ],
          "heatmapgl": [
           {
            "colorbar": {
             "outlinewidth": 0,
             "ticks": ""
            },
            "colorscale": [
             [
              0,
              "#0d0887"
             ],
             [
              0.1111111111111111,
              "#46039f"
             ],
             [
              0.2222222222222222,
              "#7201a8"
             ],
             [
              0.3333333333333333,
              "#9c179e"
             ],
             [
              0.4444444444444444,
              "#bd3786"
             ],
             [
              0.5555555555555556,
              "#d8576b"
             ],
             [
              0.6666666666666666,
              "#ed7953"
             ],
             [
              0.7777777777777778,
              "#fb9f3a"
             ],
             [
              0.8888888888888888,
              "#fdca26"
             ],
             [
              1,
              "#f0f921"
             ]
            ],
            "type": "heatmapgl"
           }
          ],
          "histogram": [
           {
            "marker": {
             "pattern": {
              "fillmode": "overlay",
              "size": 10,
              "solidity": 0.2
             }
            },
            "type": "histogram"
           }
          ],
          "histogram2d": [
           {
            "colorbar": {
             "outlinewidth": 0,
             "ticks": ""
            },
            "colorscale": [
             [
              0,
              "#0d0887"
             ],
             [
              0.1111111111111111,
              "#46039f"
             ],
             [
              0.2222222222222222,
              "#7201a8"
             ],
             [
              0.3333333333333333,
              "#9c179e"
             ],
             [
              0.4444444444444444,
              "#bd3786"
             ],
             [
              0.5555555555555556,
              "#d8576b"
             ],
             [
              0.6666666666666666,
              "#ed7953"
             ],
             [
              0.7777777777777778,
              "#fb9f3a"
             ],
             [
              0.8888888888888888,
              "#fdca26"
             ],
             [
              1,
              "#f0f921"
             ]
            ],
            "type": "histogram2d"
           }
          ],
          "histogram2dcontour": [
           {
            "colorbar": {
             "outlinewidth": 0,
             "ticks": ""
            },
            "colorscale": [
             [
              0,
              "#0d0887"
             ],
             [
              0.1111111111111111,
              "#46039f"
             ],
             [
              0.2222222222222222,
              "#7201a8"
             ],
             [
              0.3333333333333333,
              "#9c179e"
             ],
             [
              0.4444444444444444,
              "#bd3786"
             ],
             [
              0.5555555555555556,
              "#d8576b"
             ],
             [
              0.6666666666666666,
              "#ed7953"
             ],
             [
              0.7777777777777778,
              "#fb9f3a"
             ],
             [
              0.8888888888888888,
              "#fdca26"
             ],
             [
              1,
              "#f0f921"
             ]
            ],
            "type": "histogram2dcontour"
           }
          ],
          "mesh3d": [
           {
            "colorbar": {
             "outlinewidth": 0,
             "ticks": ""
            },
            "type": "mesh3d"
           }
          ],
          "parcoords": [
           {
            "line": {
             "colorbar": {
              "outlinewidth": 0,
              "ticks": ""
             }
            },
            "type": "parcoords"
           }
          ],
          "pie": [
           {
            "automargin": true,
            "type": "pie"
           }
          ],
          "scatter": [
           {
            "fillpattern": {
             "fillmode": "overlay",
             "size": 10,
             "solidity": 0.2
            },
            "type": "scatter"
           }
          ],
          "scatter3d": [
           {
            "line": {
             "colorbar": {
              "outlinewidth": 0,
              "ticks": ""
             }
            },
            "marker": {
             "colorbar": {
              "outlinewidth": 0,
              "ticks": ""
             }
            },
            "type": "scatter3d"
           }
          ],
          "scattercarpet": [
           {
            "marker": {
             "colorbar": {
              "outlinewidth": 0,
              "ticks": ""
             }
            },
            "type": "scattercarpet"
           }
          ],
          "scattergeo": [
           {
            "marker": {
             "colorbar": {
              "outlinewidth": 0,
              "ticks": ""
             }
            },
            "type": "scattergeo"
           }
          ],
          "scattergl": [
           {
            "marker": {
             "colorbar": {
              "outlinewidth": 0,
              "ticks": ""
             }
            },
            "type": "scattergl"
           }
          ],
          "scattermapbox": [
           {
            "marker": {
             "colorbar": {
              "outlinewidth": 0,
              "ticks": ""
             }
            },
            "type": "scattermapbox"
           }
          ],
          "scatterpolar": [
           {
            "marker": {
             "colorbar": {
              "outlinewidth": 0,
              "ticks": ""
             }
            },
            "type": "scatterpolar"
           }
          ],
          "scatterpolargl": [
           {
            "marker": {
             "colorbar": {
              "outlinewidth": 0,
              "ticks": ""
             }
            },
            "type": "scatterpolargl"
           }
          ],
          "scatterternary": [
           {
            "marker": {
             "colorbar": {
              "outlinewidth": 0,
              "ticks": ""
             }
            },
            "type": "scatterternary"
           }
          ],
          "surface": [
           {
            "colorbar": {
             "outlinewidth": 0,
             "ticks": ""
            },
            "colorscale": [
             [
              0,
              "#0d0887"
             ],
             [
              0.1111111111111111,
              "#46039f"
             ],
             [
              0.2222222222222222,
              "#7201a8"
             ],
             [
              0.3333333333333333,
              "#9c179e"
             ],
             [
              0.4444444444444444,
              "#bd3786"
             ],
             [
              0.5555555555555556,
              "#d8576b"
             ],
             [
              0.6666666666666666,
              "#ed7953"
             ],
             [
              0.7777777777777778,
              "#fb9f3a"
             ],
             [
              0.8888888888888888,
              "#fdca26"
             ],
             [
              1,
              "#f0f921"
             ]
            ],
            "type": "surface"
           }
          ],
          "table": [
           {
            "cells": {
             "fill": {
              "color": "#EBF0F8"
             },
             "line": {
              "color": "white"
             }
            },
            "header": {
             "fill": {
              "color": "#C8D4E3"
             },
             "line": {
              "color": "white"
             }
            },
            "type": "table"
           }
          ]
         },
         "layout": {
          "annotationdefaults": {
           "arrowcolor": "#2a3f5f",
           "arrowhead": 0,
           "arrowwidth": 1
          },
          "autotypenumbers": "strict",
          "coloraxis": {
           "colorbar": {
            "outlinewidth": 0,
            "ticks": ""
           }
          },
          "colorscale": {
           "diverging": [
            [
             0,
             "#8e0152"
            ],
            [
             0.1,
             "#c51b7d"
            ],
            [
             0.2,
             "#de77ae"
            ],
            [
             0.3,
             "#f1b6da"
            ],
            [
             0.4,
             "#fde0ef"
            ],
            [
             0.5,
             "#f7f7f7"
            ],
            [
             0.6,
             "#e6f5d0"
            ],
            [
             0.7,
             "#b8e186"
            ],
            [
             0.8,
             "#7fbc41"
            ],
            [
             0.9,
             "#4d9221"
            ],
            [
             1,
             "#276419"
            ]
           ],
           "sequential": [
            [
             0,
             "#0d0887"
            ],
            [
             0.1111111111111111,
             "#46039f"
            ],
            [
             0.2222222222222222,
             "#7201a8"
            ],
            [
             0.3333333333333333,
             "#9c179e"
            ],
            [
             0.4444444444444444,
             "#bd3786"
            ],
            [
             0.5555555555555556,
             "#d8576b"
            ],
            [
             0.6666666666666666,
             "#ed7953"
            ],
            [
             0.7777777777777778,
             "#fb9f3a"
            ],
            [
             0.8888888888888888,
             "#fdca26"
            ],
            [
             1,
             "#f0f921"
            ]
           ],
           "sequentialminus": [
            [
             0,
             "#0d0887"
            ],
            [
             0.1111111111111111,
             "#46039f"
            ],
            [
             0.2222222222222222,
             "#7201a8"
            ],
            [
             0.3333333333333333,
             "#9c179e"
            ],
            [
             0.4444444444444444,
             "#bd3786"
            ],
            [
             0.5555555555555556,
             "#d8576b"
            ],
            [
             0.6666666666666666,
             "#ed7953"
            ],
            [
             0.7777777777777778,
             "#fb9f3a"
            ],
            [
             0.8888888888888888,
             "#fdca26"
            ],
            [
             1,
             "#f0f921"
            ]
           ]
          },
          "colorway": [
           "#636efa",
           "#EF553B",
           "#00cc96",
           "#ab63fa",
           "#FFA15A",
           "#19d3f3",
           "#FF6692",
           "#B6E880",
           "#FF97FF",
           "#FECB52"
          ],
          "font": {
           "color": "#2a3f5f"
          },
          "geo": {
           "bgcolor": "white",
           "lakecolor": "white",
           "landcolor": "white",
           "showlakes": true,
           "showland": true,
           "subunitcolor": "#C8D4E3"
          },
          "hoverlabel": {
           "align": "left"
          },
          "hovermode": "closest",
          "mapbox": {
           "style": "light"
          },
          "paper_bgcolor": "white",
          "plot_bgcolor": "white",
          "polar": {
           "angularaxis": {
            "gridcolor": "#EBF0F8",
            "linecolor": "#EBF0F8",
            "ticks": ""
           },
           "bgcolor": "white",
           "radialaxis": {
            "gridcolor": "#EBF0F8",
            "linecolor": "#EBF0F8",
            "ticks": ""
           }
          },
          "scene": {
           "xaxis": {
            "backgroundcolor": "white",
            "gridcolor": "#DFE8F3",
            "gridwidth": 2,
            "linecolor": "#EBF0F8",
            "showbackground": true,
            "ticks": "",
            "zerolinecolor": "#EBF0F8"
           },
           "yaxis": {
            "backgroundcolor": "white",
            "gridcolor": "#DFE8F3",
            "gridwidth": 2,
            "linecolor": "#EBF0F8",
            "showbackground": true,
            "ticks": "",
            "zerolinecolor": "#EBF0F8"
           },
           "zaxis": {
            "backgroundcolor": "white",
            "gridcolor": "#DFE8F3",
            "gridwidth": 2,
            "linecolor": "#EBF0F8",
            "showbackground": true,
            "ticks": "",
            "zerolinecolor": "#EBF0F8"
           }
          },
          "shapedefaults": {
           "line": {
            "color": "#2a3f5f"
           }
          },
          "ternary": {
           "aaxis": {
            "gridcolor": "#DFE8F3",
            "linecolor": "#A2B1C6",
            "ticks": ""
           },
           "baxis": {
            "gridcolor": "#DFE8F3",
            "linecolor": "#A2B1C6",
            "ticks": ""
           },
           "bgcolor": "white",
           "caxis": {
            "gridcolor": "#DFE8F3",
            "linecolor": "#A2B1C6",
            "ticks": ""
           }
          },
          "title": {
           "x": 0.05
          },
          "xaxis": {
           "automargin": true,
           "gridcolor": "#EBF0F8",
           "linecolor": "#EBF0F8",
           "ticks": "",
           "title": {
            "standoff": 15
           },
           "zerolinecolor": "#EBF0F8",
           "zerolinewidth": 2
          },
          "yaxis": {
           "automargin": true,
           "gridcolor": "#EBF0F8",
           "linecolor": "#EBF0F8",
           "ticks": "",
           "title": {
            "standoff": 15
           },
           "zerolinecolor": "#EBF0F8",
           "zerolinewidth": 2
          }
         }
        },
        "title": {
         "text": "Proportion of Sentiments",
         "x": 0.5
        }
       }
      },
      "text/html": [
       "<div>                            <div id=\"fbb36ffb-474e-4e0a-abea-2284613bd3f4\" class=\"plotly-graph-div\" style=\"height:525px; width:100%;\"></div>            <script type=\"text/javascript\">                require([\"plotly\"], function(Plotly) {                    window.PLOTLYENV=window.PLOTLYENV || {};                                    if (document.getElementById(\"fbb36ffb-474e-4e0a-abea-2284613bd3f4\")) {                    Plotly.newPlot(                        \"fbb36ffb-474e-4e0a-abea-2284613bd3f4\",                        [{\"labels\":[\"neutral\",\"negative\",\"positive\"],\"marker\":{\"colors\":[\"#006400\",\"#8B0001\",\"#add8e3\"]},\"values\":[5789,5462,5461],\"type\":\"pie\"}],                        {\"template\":{\"data\":{\"barpolar\":[{\"marker\":{\"line\":{\"color\":\"white\",\"width\":0.5},\"pattern\":{\"fillmode\":\"overlay\",\"size\":10,\"solidity\":0.2}},\"type\":\"barpolar\"}],\"bar\":[{\"error_x\":{\"color\":\"#2a3f5f\"},\"error_y\":{\"color\":\"#2a3f5f\"},\"marker\":{\"line\":{\"color\":\"white\",\"width\":0.5},\"pattern\":{\"fillmode\":\"overlay\",\"size\":10,\"solidity\":0.2}},\"type\":\"bar\"}],\"carpet\":[{\"aaxis\":{\"endlinecolor\":\"#2a3f5f\",\"gridcolor\":\"#C8D4E3\",\"linecolor\":\"#C8D4E3\",\"minorgridcolor\":\"#C8D4E3\",\"startlinecolor\":\"#2a3f5f\"},\"baxis\":{\"endlinecolor\":\"#2a3f5f\",\"gridcolor\":\"#C8D4E3\",\"linecolor\":\"#C8D4E3\",\"minorgridcolor\":\"#C8D4E3\",\"startlinecolor\":\"#2a3f5f\"},\"type\":\"carpet\"}],\"choropleth\":[{\"colorbar\":{\"outlinewidth\":0,\"ticks\":\"\"},\"type\":\"choropleth\"}],\"contourcarpet\":[{\"colorbar\":{\"outlinewidth\":0,\"ticks\":\"\"},\"type\":\"contourcarpet\"}],\"contour\":[{\"colorbar\":{\"outlinewidth\":0,\"ticks\":\"\"},\"colorscale\":[[0.0,\"#0d0887\"],[0.1111111111111111,\"#46039f\"],[0.2222222222222222,\"#7201a8\"],[0.3333333333333333,\"#9c179e\"],[0.4444444444444444,\"#bd3786\"],[0.5555555555555556,\"#d8576b\"],[0.6666666666666666,\"#ed7953\"],[0.7777777777777778,\"#fb9f3a\"],[0.8888888888888888,\"#fdca26\"],[1.0,\"#f0f921\"]],\"type\":\"contour\"}],\"heatmapgl\":[{\"colorbar\":{\"outlinewidth\":0,\"ticks\":\"\"},\"colorscale\":[[0.0,\"#0d0887\"],[0.1111111111111111,\"#46039f\"],[0.2222222222222222,\"#7201a8\"],[0.3333333333333333,\"#9c179e\"],[0.4444444444444444,\"#bd3786\"],[0.5555555555555556,\"#d8576b\"],[0.6666666666666666,\"#ed7953\"],[0.7777777777777778,\"#fb9f3a\"],[0.8888888888888888,\"#fdca26\"],[1.0,\"#f0f921\"]],\"type\":\"heatmapgl\"}],\"heatmap\":[{\"colorbar\":{\"outlinewidth\":0,\"ticks\":\"\"},\"colorscale\":[[0.0,\"#0d0887\"],[0.1111111111111111,\"#46039f\"],[0.2222222222222222,\"#7201a8\"],[0.3333333333333333,\"#9c179e\"],[0.4444444444444444,\"#bd3786\"],[0.5555555555555556,\"#d8576b\"],[0.6666666666666666,\"#ed7953\"],[0.7777777777777778,\"#fb9f3a\"],[0.8888888888888888,\"#fdca26\"],[1.0,\"#f0f921\"]],\"type\":\"heatmap\"}],\"histogram2dcontour\":[{\"colorbar\":{\"outlinewidth\":0,\"ticks\":\"\"},\"colorscale\":[[0.0,\"#0d0887\"],[0.1111111111111111,\"#46039f\"],[0.2222222222222222,\"#7201a8\"],[0.3333333333333333,\"#9c179e\"],[0.4444444444444444,\"#bd3786\"],[0.5555555555555556,\"#d8576b\"],[0.6666666666666666,\"#ed7953\"],[0.7777777777777778,\"#fb9f3a\"],[0.8888888888888888,\"#fdca26\"],[1.0,\"#f0f921\"]],\"type\":\"histogram2dcontour\"}],\"histogram2d\":[{\"colorbar\":{\"outlinewidth\":0,\"ticks\":\"\"},\"colorscale\":[[0.0,\"#0d0887\"],[0.1111111111111111,\"#46039f\"],[0.2222222222222222,\"#7201a8\"],[0.3333333333333333,\"#9c179e\"],[0.4444444444444444,\"#bd3786\"],[0.5555555555555556,\"#d8576b\"],[0.6666666666666666,\"#ed7953\"],[0.7777777777777778,\"#fb9f3a\"],[0.8888888888888888,\"#fdca26\"],[1.0,\"#f0f921\"]],\"type\":\"histogram2d\"}],\"histogram\":[{\"marker\":{\"pattern\":{\"fillmode\":\"overlay\",\"size\":10,\"solidity\":0.2}},\"type\":\"histogram\"}],\"mesh3d\":[{\"colorbar\":{\"outlinewidth\":0,\"ticks\":\"\"},\"type\":\"mesh3d\"}],\"parcoords\":[{\"line\":{\"colorbar\":{\"outlinewidth\":0,\"ticks\":\"\"}},\"type\":\"parcoords\"}],\"pie\":[{\"automargin\":true,\"type\":\"pie\"}],\"scatter3d\":[{\"line\":{\"colorbar\":{\"outlinewidth\":0,\"ticks\":\"\"}},\"marker\":{\"colorbar\":{\"outlinewidth\":0,\"ticks\":\"\"}},\"type\":\"scatter3d\"}],\"scattercarpet\":[{\"marker\":{\"colorbar\":{\"outlinewidth\":0,\"ticks\":\"\"}},\"type\":\"scattercarpet\"}],\"scattergeo\":[{\"marker\":{\"colorbar\":{\"outlinewidth\":0,\"ticks\":\"\"}},\"type\":\"scattergeo\"}],\"scattergl\":[{\"marker\":{\"colorbar\":{\"outlinewidth\":0,\"ticks\":\"\"}},\"type\":\"scattergl\"}],\"scattermapbox\":[{\"marker\":{\"colorbar\":{\"outlinewidth\":0,\"ticks\":\"\"}},\"type\":\"scattermapbox\"}],\"scatterpolargl\":[{\"marker\":{\"colorbar\":{\"outlinewidth\":0,\"ticks\":\"\"}},\"type\":\"scatterpolargl\"}],\"scatterpolar\":[{\"marker\":{\"colorbar\":{\"outlinewidth\":0,\"ticks\":\"\"}},\"type\":\"scatterpolar\"}],\"scatter\":[{\"fillpattern\":{\"fillmode\":\"overlay\",\"size\":10,\"solidity\":0.2},\"type\":\"scatter\"}],\"scatterternary\":[{\"marker\":{\"colorbar\":{\"outlinewidth\":0,\"ticks\":\"\"}},\"type\":\"scatterternary\"}],\"surface\":[{\"colorbar\":{\"outlinewidth\":0,\"ticks\":\"\"},\"colorscale\":[[0.0,\"#0d0887\"],[0.1111111111111111,\"#46039f\"],[0.2222222222222222,\"#7201a8\"],[0.3333333333333333,\"#9c179e\"],[0.4444444444444444,\"#bd3786\"],[0.5555555555555556,\"#d8576b\"],[0.6666666666666666,\"#ed7953\"],[0.7777777777777778,\"#fb9f3a\"],[0.8888888888888888,\"#fdca26\"],[1.0,\"#f0f921\"]],\"type\":\"surface\"}],\"table\":[{\"cells\":{\"fill\":{\"color\":\"#EBF0F8\"},\"line\":{\"color\":\"white\"}},\"header\":{\"fill\":{\"color\":\"#C8D4E3\"},\"line\":{\"color\":\"white\"}},\"type\":\"table\"}]},\"layout\":{\"annotationdefaults\":{\"arrowcolor\":\"#2a3f5f\",\"arrowhead\":0,\"arrowwidth\":1},\"autotypenumbers\":\"strict\",\"coloraxis\":{\"colorbar\":{\"outlinewidth\":0,\"ticks\":\"\"}},\"colorscale\":{\"diverging\":[[0,\"#8e0152\"],[0.1,\"#c51b7d\"],[0.2,\"#de77ae\"],[0.3,\"#f1b6da\"],[0.4,\"#fde0ef\"],[0.5,\"#f7f7f7\"],[0.6,\"#e6f5d0\"],[0.7,\"#b8e186\"],[0.8,\"#7fbc41\"],[0.9,\"#4d9221\"],[1,\"#276419\"]],\"sequential\":[[0.0,\"#0d0887\"],[0.1111111111111111,\"#46039f\"],[0.2222222222222222,\"#7201a8\"],[0.3333333333333333,\"#9c179e\"],[0.4444444444444444,\"#bd3786\"],[0.5555555555555556,\"#d8576b\"],[0.6666666666666666,\"#ed7953\"],[0.7777777777777778,\"#fb9f3a\"],[0.8888888888888888,\"#fdca26\"],[1.0,\"#f0f921\"]],\"sequentialminus\":[[0.0,\"#0d0887\"],[0.1111111111111111,\"#46039f\"],[0.2222222222222222,\"#7201a8\"],[0.3333333333333333,\"#9c179e\"],[0.4444444444444444,\"#bd3786\"],[0.5555555555555556,\"#d8576b\"],[0.6666666666666666,\"#ed7953\"],[0.7777777777777778,\"#fb9f3a\"],[0.8888888888888888,\"#fdca26\"],[1.0,\"#f0f921\"]]},\"colorway\":[\"#636efa\",\"#EF553B\",\"#00cc96\",\"#ab63fa\",\"#FFA15A\",\"#19d3f3\",\"#FF6692\",\"#B6E880\",\"#FF97FF\",\"#FECB52\"],\"font\":{\"color\":\"#2a3f5f\"},\"geo\":{\"bgcolor\":\"white\",\"lakecolor\":\"white\",\"landcolor\":\"white\",\"showlakes\":true,\"showland\":true,\"subunitcolor\":\"#C8D4E3\"},\"hoverlabel\":{\"align\":\"left\"},\"hovermode\":\"closest\",\"mapbox\":{\"style\":\"light\"},\"paper_bgcolor\":\"white\",\"plot_bgcolor\":\"white\",\"polar\":{\"angularaxis\":{\"gridcolor\":\"#EBF0F8\",\"linecolor\":\"#EBF0F8\",\"ticks\":\"\"},\"bgcolor\":\"white\",\"radialaxis\":{\"gridcolor\":\"#EBF0F8\",\"linecolor\":\"#EBF0F8\",\"ticks\":\"\"}},\"scene\":{\"xaxis\":{\"backgroundcolor\":\"white\",\"gridcolor\":\"#DFE8F3\",\"gridwidth\":2,\"linecolor\":\"#EBF0F8\",\"showbackground\":true,\"ticks\":\"\",\"zerolinecolor\":\"#EBF0F8\"},\"yaxis\":{\"backgroundcolor\":\"white\",\"gridcolor\":\"#DFE8F3\",\"gridwidth\":2,\"linecolor\":\"#EBF0F8\",\"showbackground\":true,\"ticks\":\"\",\"zerolinecolor\":\"#EBF0F8\"},\"zaxis\":{\"backgroundcolor\":\"white\",\"gridcolor\":\"#DFE8F3\",\"gridwidth\":2,\"linecolor\":\"#EBF0F8\",\"showbackground\":true,\"ticks\":\"\",\"zerolinecolor\":\"#EBF0F8\"}},\"shapedefaults\":{\"line\":{\"color\":\"#2a3f5f\"}},\"ternary\":{\"aaxis\":{\"gridcolor\":\"#DFE8F3\",\"linecolor\":\"#A2B1C6\",\"ticks\":\"\"},\"baxis\":{\"gridcolor\":\"#DFE8F3\",\"linecolor\":\"#A2B1C6\",\"ticks\":\"\"},\"bgcolor\":\"white\",\"caxis\":{\"gridcolor\":\"#DFE8F3\",\"linecolor\":\"#A2B1C6\",\"ticks\":\"\"}},\"title\":{\"x\":0.05},\"xaxis\":{\"automargin\":true,\"gridcolor\":\"#EBF0F8\",\"linecolor\":\"#EBF0F8\",\"ticks\":\"\",\"title\":{\"standoff\":15},\"zerolinecolor\":\"#EBF0F8\",\"zerolinewidth\":2},\"yaxis\":{\"automargin\":true,\"gridcolor\":\"#EBF0F8\",\"linecolor\":\"#EBF0F8\",\"ticks\":\"\",\"title\":{\"standoff\":15},\"zerolinecolor\":\"#EBF0F8\",\"zerolinewidth\":2}}},\"title\":{\"text\":\"Proportion of Sentiments\",\"x\":0.5}},                        {\"responsive\": true}                    ).then(function(){\n",
       "                            \n",
       "var gd = document.getElementById('fbb36ffb-474e-4e0a-abea-2284613bd3f4');\n",
       "var x = new MutationObserver(function (mutations, observer) {{\n",
       "        var display = window.getComputedStyle(gd).display;\n",
       "        if (!display || display === 'none') {{\n",
       "            console.log([gd, 'removed!']);\n",
       "            Plotly.purge(gd);\n",
       "            observer.disconnect();\n",
       "        }}\n",
       "}});\n",
       "\n",
       "// Listen for the removal of the full notebook cells\n",
       "var notebookContainer = gd.closest('#notebook-container');\n",
       "if (notebookContainer) {{\n",
       "    x.observe(notebookContainer, {childList: true});\n",
       "}}\n",
       "\n",
       "// Listen for the clearing of the current output cell\n",
       "var outputEl = gd.closest('.output');\n",
       "if (outputEl) {{\n",
       "    x.observe(outputEl, {childList: true});\n",
       "}}\n",
       "\n",
       "                        })                };                });            </script>        </div>"
      ]
     },
     "metadata": {},
     "output_type": "display_data"
    }
   ],
   "source": [
    "fig = go.Figure(data=[go.Pie(labels=df_new['polarity'].value_counts().index.tolist(),\n",
    "                             values=df_new['polarity'].value_counts().tolist(),\n",
    "                            marker=dict(colors=['#006400','#8B0001','#add8e3']))])\n",
    "\n",
    "fig.update_layout(title_text='Proportion of Sentiments',title_x=0.5,\n",
    "                  template='plotly_white')\n",
    "fig.show()"
   ]
  },
  {
   "cell_type": "markdown",
   "id": "ab38483e",
   "metadata": {},
   "source": [
    "#### Observation : The Above Pie charts tells us the proportion of \"positive\" ,\"Negative\" & \"neural\" comments from Customers where Swiggy can improve there Facilities"
   ]
  },
  {
   "cell_type": "markdown",
   "id": "434daeba",
   "metadata": {},
   "source": [
    "### Clustering the tweets into various themes like Positive,Negative & Neutral"
   ]
  },
  {
   "cell_type": "code",
   "execution_count": 33,
   "id": "5355e977",
   "metadata": {},
   "outputs": [],
   "source": [
    "stop_words = stopwords.words('english')\n",
    "def get_data(df_new,senti):\n",
    "    s_df = df_new[df_new['polarity']==senti].reset_index()\n",
    "    \n",
    "    s_corpus = []\n",
    "    for i in range(0,len(s_df)):\n",
    "        text = re.sub('[^a-zA-Z]', ' ', s_df['full_text'][i])\n",
    "        text = text.lower()\n",
    "        text = text.split()\n",
    "        text = [lemmatizer.lemmatize(word) for word in text if not word in stop_words]\n",
    "        text = ' '.join(text)\n",
    "        s_corpus.append(text)\n",
    "    return s_corpus\n",
    "\n",
    "p_corpus = get_data(df_new,'positive')\n",
    "p_corpus=pd.DataFrame(p_corpus)\n",
    "\n",
    "n_corpus = get_data(df_new,'negative')\n",
    "n_corpus=pd.DataFrame(n_corpus)\n",
    "\n",
    "nt_corpus = get_data(df_new,'neutral')\n",
    "nt_corpus=pd.DataFrame(nt_corpus)"
   ]
  },
  {
   "cell_type": "code",
   "execution_count": 34,
   "id": "74a82e71",
   "metadata": {},
   "outputs": [
    {
     "data": {
      "text/plain": [
       "((5461, 1), (5462, 1), (5789, 1))"
      ]
     },
     "execution_count": 34,
     "metadata": {},
     "output_type": "execute_result"
    }
   ],
   "source": [
    "p_corpus.shape,n_corpus.shape,nt_corpus.shape"
   ]
  },
  {
   "cell_type": "raw",
   "id": "45136880",
   "metadata": {},
   "source": []
  },
  {
   "cell_type": "code",
   "execution_count": 35,
   "id": "171ed185",
   "metadata": {},
   "outputs": [
    {
     "data": {
      "text/html": [
       "<div>\n",
       "<style scoped>\n",
       "    .dataframe tbody tr th:only-of-type {\n",
       "        vertical-align: middle;\n",
       "    }\n",
       "\n",
       "    .dataframe tbody tr th {\n",
       "        vertical-align: top;\n",
       "    }\n",
       "\n",
       "    .dataframe thead th {\n",
       "        text-align: right;\n",
       "    }\n",
       "</style>\n",
       "<table border=\"1\" class=\"dataframe\">\n",
       "  <thead>\n",
       "    <tr style=\"text-align: right;\">\n",
       "      <th></th>\n",
       "      <th>full_text</th>\n",
       "      <th>JUST_DATE</th>\n",
       "      <th>Sentiment</th>\n",
       "    </tr>\n",
       "  </thead>\n",
       "  <tbody>\n",
       "    <tr>\n",
       "      <th>0</th>\n",
       "      <td>@Mahi_2510 @swiggy_in The ultimate answer will...</td>\n",
       "      <td>2019-07-18</td>\n",
       "      <td>negative</td>\n",
       "    </tr>\n",
       "    <tr>\n",
       "      <th>1</th>\n",
       "      <td>@SwiggyCares I hope so.</td>\n",
       "      <td>2019-07-18</td>\n",
       "      <td>neutral</td>\n",
       "    </tr>\n",
       "    <tr>\n",
       "      <th>2</th>\n",
       "      <td>@SwiggyCares I think you have the order detail...</td>\n",
       "      <td>2019-07-18</td>\n",
       "      <td>positive</td>\n",
       "    </tr>\n",
       "    <tr>\n",
       "      <th>3</th>\n",
       "      <td>@swiggy_in People are complaining here also, i...</td>\n",
       "      <td>2019-07-18</td>\n",
       "      <td>positive</td>\n",
       "    </tr>\n",
       "    <tr>\n",
       "      <th>4</th>\n",
       "      <td>@SwiggyCares Do you even know the meaning of y...</td>\n",
       "      <td>2019-07-18</td>\n",
       "      <td>neutral</td>\n",
       "    </tr>\n",
       "  </tbody>\n",
       "</table>\n",
       "</div>"
      ],
      "text/plain": [
       "                                           full_text   JUST_DATE Sentiment\n",
       "0  @Mahi_2510 @swiggy_in The ultimate answer will...  2019-07-18  negative\n",
       "1                            @SwiggyCares I hope so.  2019-07-18   neutral\n",
       "2  @SwiggyCares I think you have the order detail...  2019-07-18  positive\n",
       "3  @swiggy_in People are complaining here also, i...  2019-07-18  positive\n",
       "4  @SwiggyCares Do you even know the meaning of y...  2019-07-18   neutral"
      ]
     },
     "execution_count": 35,
     "metadata": {},
     "output_type": "execute_result"
    }
   ],
   "source": [
    "df_new.drop('polarity_score',axis=1,inplace=True)\n",
    "df_new.rename(columns={\"polarity\": \"Sentiment\"},inplace=True)\n",
    "df_new.head()"
   ]
  },
  {
   "cell_type": "code",
   "execution_count": 36,
   "id": "f8ffcf0f",
   "metadata": {},
   "outputs": [
    {
     "data": {
      "text/html": [
       "<div>\n",
       "<style scoped>\n",
       "    .dataframe tbody tr th:only-of-type {\n",
       "        vertical-align: middle;\n",
       "    }\n",
       "\n",
       "    .dataframe tbody tr th {\n",
       "        vertical-align: top;\n",
       "    }\n",
       "\n",
       "    .dataframe thead th {\n",
       "        text-align: right;\n",
       "    }\n",
       "</style>\n",
       "<table border=\"1\" class=\"dataframe\">\n",
       "  <thead>\n",
       "    <tr style=\"text-align: right;\">\n",
       "      <th></th>\n",
       "      <th>full_text</th>\n",
       "      <th>JUST_DATE</th>\n",
       "      <th>Sentiment</th>\n",
       "    </tr>\n",
       "  </thead>\n",
       "  <tbody>\n",
       "    <tr>\n",
       "      <th>0</th>\n",
       "      <td>@Mahi_2510 @swiggy_in The ultimate answer will...</td>\n",
       "      <td>2019-07-18</td>\n",
       "      <td>-1</td>\n",
       "    </tr>\n",
       "    <tr>\n",
       "      <th>1</th>\n",
       "      <td>@SwiggyCares I hope so.</td>\n",
       "      <td>2019-07-18</td>\n",
       "      <td>0</td>\n",
       "    </tr>\n",
       "    <tr>\n",
       "      <th>2</th>\n",
       "      <td>@SwiggyCares I think you have the order detail...</td>\n",
       "      <td>2019-07-18</td>\n",
       "      <td>1</td>\n",
       "    </tr>\n",
       "    <tr>\n",
       "      <th>3</th>\n",
       "      <td>@swiggy_in People are complaining here also, i...</td>\n",
       "      <td>2019-07-18</td>\n",
       "      <td>1</td>\n",
       "    </tr>\n",
       "    <tr>\n",
       "      <th>4</th>\n",
       "      <td>@SwiggyCares Do you even know the meaning of y...</td>\n",
       "      <td>2019-07-18</td>\n",
       "      <td>0</td>\n",
       "    </tr>\n",
       "  </tbody>\n",
       "</table>\n",
       "</div>"
      ],
      "text/plain": [
       "                                           full_text   JUST_DATE  Sentiment\n",
       "0  @Mahi_2510 @swiggy_in The ultimate answer will...  2019-07-18         -1\n",
       "1                            @SwiggyCares I hope so.  2019-07-18          0\n",
       "2  @SwiggyCares I think you have the order detail...  2019-07-18          1\n",
       "3  @swiggy_in People are complaining here also, i...  2019-07-18          1\n",
       "4  @SwiggyCares Do you even know the meaning of y...  2019-07-18          0"
      ]
     },
     "execution_count": 36,
     "metadata": {},
     "output_type": "execute_result"
    }
   ],
   "source": [
    "# Label Encoding \"Sentiment\" Column\n",
    "\n",
    "df_new['Sentiment']=df_new['Sentiment'].replace(to_replace=['negative', 'neutral', 'positive'],value=[-1,0,1])\n",
    "df_new.head()"
   ]
  },
  {
   "cell_type": "markdown",
   "id": "9b069f54",
   "metadata": {},
   "source": [
    "# Model Modelling"
   ]
  },
  {
   "cell_type": "code",
   "execution_count": 37,
   "id": "b249b429",
   "metadata": {},
   "outputs": [],
   "source": [
    "from sklearn.model_selection import train_test_split\n",
    "from sklearn.metrics import classification_report,confusion_matrix"
   ]
  },
  {
   "cell_type": "markdown",
   "id": "a7d82ee1",
   "metadata": {},
   "source": [
    "### 1:Using Bag of Words"
   ]
  },
  {
   "cell_type": "code",
   "execution_count": 38,
   "id": "c9ec8598",
   "metadata": {},
   "outputs": [],
   "source": [
    "# Converting the Words to Vector using Bag of words\n",
    "\n",
    "from sklearn.feature_extraction.text import CountVectorizer\n",
    "cv=CountVectorizer(max_features=2500,ngram_range=(1,3)) # top 2500 features are taken \n",
    "X=cv.fit_transform(corpus).toarray()\n",
    "y=df_new['Sentiment']\n",
    "x_train,x_test,y_train,y_test=train_test_split(X,y,test_size=0.20,random_state=1,stratify=y)"
   ]
  },
  {
   "cell_type": "code",
   "execution_count": 39,
   "id": "9ecdfe1f",
   "metadata": {},
   "outputs": [
    {
     "name": "stdout",
     "output_type": "stream",
     "text": [
      "              precision    recall  f1-score   support\n",
      "\n",
      "          -1       0.72      0.72      0.72      1088\n",
      "           0       0.77      0.76      0.76      1181\n",
      "           1       0.72      0.73      0.72      1074\n",
      "\n",
      "    accuracy                           0.74      3343\n",
      "   macro avg       0.74      0.74      0.74      3343\n",
      "weighted avg       0.74      0.74      0.74      3343\n",
      "\n"
     ]
    }
   ],
   "source": [
    "#Naive Bayes Model\n",
    "\n",
    "from sklearn.naive_bayes import MultinomialNB\n",
    "nb=MultinomialNB()\n",
    "nb.fit(x_train,y_train)\n",
    "MultinomialNB()\n",
    "train_pred=nb.predict(x_train)\n",
    "test_pred=nb.predict(x_test)\n",
    "print(classification_report(test_pred,y_test))"
   ]
  },
  {
   "cell_type": "code",
   "execution_count": 40,
   "id": "a28ff31b",
   "metadata": {},
   "outputs": [
    {
     "name": "stdout",
     "output_type": "stream",
     "text": [
      "              precision    recall  f1-score   support\n",
      "\n",
      "          -1       0.77      0.81      0.79      1035\n",
      "           0       0.89      0.76      0.82      1357\n",
      "           1       0.72      0.83      0.77       951\n",
      "\n",
      "    accuracy                           0.80      3343\n",
      "   macro avg       0.79      0.80      0.79      3343\n",
      "weighted avg       0.81      0.80      0.80      3343\n",
      "\n"
     ]
    }
   ],
   "source": [
    "#Random Forest Model\n",
    "\n",
    "from sklearn.ensemble import RandomForestClassifier\n",
    "rfc=RandomForestClassifier()\n",
    "rfc.fit(x_train,y_train)\n",
    "RandomForestClassifier()\n",
    "train_pred=rfc.predict(x_train)\n",
    "test_pred=rfc.predict(x_test)\n",
    "print(classification_report(test_pred,y_test)) "
   ]
  },
  {
   "cell_type": "markdown",
   "id": "74224a0e",
   "metadata": {},
   "source": [
    "#### Conclusion: Here we get a very good Model using 'Bag Of words' but Still the Semantic meaning will be missing So, to overcome this problem we are further going for TF-IDF Technique"
   ]
  },
  {
   "cell_type": "markdown",
   "id": "95a21b1c",
   "metadata": {},
   "source": []
  },
  {
   "cell_type": "markdown",
   "id": "771733c8",
   "metadata": {},
   "source": [
    "### 2: Using Term Frequency-Inverse Document Frequency"
   ]
  },
  {
   "cell_type": "code",
   "execution_count": 41,
   "id": "95d1d245",
   "metadata": {},
   "outputs": [],
   "source": [
    "# Converting the Words to Vector using TF-IDF\n",
    "\n",
    "from sklearn.feature_extraction.text import TfidfVectorizer\n",
    "tf=TfidfVectorizer(ngram_range=(1,3),max_features=3000)\n",
    "X=tf.fit_transform(corpus).toarray()\n",
    "x_train,x_test,y_train,y_test=train_test_split(X,y,test_size=0.20,random_state=1,stratify=y)"
   ]
  },
  {
   "cell_type": "code",
   "execution_count": 42,
   "id": "e385c234",
   "metadata": {},
   "outputs": [
    {
     "name": "stdout",
     "output_type": "stream",
     "text": [
      "              precision    recall  f1-score   support\n",
      "\n",
      "          -1       0.73      0.70      0.72      1142\n",
      "           0       0.74      0.74      0.74      1148\n",
      "           1       0.70      0.72      0.71      1053\n",
      "\n",
      "    accuracy                           0.72      3343\n",
      "   macro avg       0.72      0.72      0.72      3343\n",
      "weighted avg       0.72      0.72      0.72      3343\n",
      "\n"
     ]
    }
   ],
   "source": [
    "# Naive Bayes Model\n",
    "\n",
    "nb.fit(x_train,y_train)\n",
    "MultinomialNB()\n",
    "train_pred=nb.predict(x_train)\n",
    "test_pred=nb.predict(x_test)\n",
    "print(classification_report(test_pred,y_test))"
   ]
  },
  {
   "cell_type": "code",
   "execution_count": 43,
   "id": "38ec6d97",
   "metadata": {},
   "outputs": [
    {
     "name": "stdout",
     "output_type": "stream",
     "text": [
      "              precision    recall  f1-score   support\n",
      "\n",
      "          -1       0.75      0.77      0.76      1063\n",
      "           0       0.86      0.74      0.80      1334\n",
      "           1       0.70      0.80      0.75       946\n",
      "\n",
      "    accuracy                           0.77      3343\n",
      "   macro avg       0.77      0.77      0.77      3343\n",
      "weighted avg       0.78      0.77      0.77      3343\n",
      "\n"
     ]
    }
   ],
   "source": [
    "# Random Forest Model\n",
    "\n",
    "rfc.fit(x_train,y_train)\n",
    "RandomForestClassifier(n_estimators=[200],criterion='entropy',max_depth=[5,10,20,25])\n",
    "train_pred=rfc.predict(x_train)\n",
    "test_pred=rfc.predict(x_test)\n",
    "print(classification_report(test_pred,y_test))"
   ]
  },
  {
   "cell_type": "code",
   "execution_count": 44,
   "id": "3a0ad309",
   "metadata": {},
   "outputs": [
    {
     "name": "stdout",
     "output_type": "stream",
     "text": [
      "[14:14:28] WARNING: C:/Users/Administrator/workspace/xgboost-win64_release_1.5.1/src/learner.cc:1115: Starting in XGBoost 1.3.0, the default evaluation metric used with the objective 'multi:softprob' was changed from 'merror' to 'mlogloss'. Explicitly set eval_metric if you'd like to restore the old behavior.\n",
      "              precision    recall  f1-score   support\n",
      "\n",
      "          -1       0.78      0.88      0.83       960\n",
      "           0       0.96      0.77      0.86      1449\n",
      "           1       0.75      0.88      0.81       934\n",
      "\n",
      "    accuracy                           0.83      3343\n",
      "   macro avg       0.83      0.84      0.83      3343\n",
      "weighted avg       0.85      0.83      0.83      3343\n",
      "\n"
     ]
    }
   ],
   "source": [
    "# Xgboost  Model\n",
    "\n",
    "from xgboost import XGBClassifier\n",
    "XGB = XGBClassifier()\n",
    "\n",
    "XGB.fit(x_train,y_train)\n",
    "MultinomialNB()\n",
    "train_pred=XGB.predict(x_train)\n",
    "test_pred=XGB.predict(x_test)\n",
    "print(classification_report(test_pred,y_test))"
   ]
  },
  {
   "cell_type": "markdown",
   "id": "95e5d946",
   "metadata": {},
   "source": [
    "#### Conclusion: So, by using the algorithm as XG Boost Classifier we are getting a better model having a Good Precison, Recall and Accuracy So, we can Conclude that the 'full_text' and the 'Sentiment' are very much Similar ,Hence Swiggy can actually focus on the \"Negative\" sentiments more and social media team can understand the urgency with which they have to react for that tweet."
   ]
  },
  {
   "cell_type": "markdown",
   "id": "b18d3aee",
   "metadata": {},
   "source": [
    "### Testing our Model"
   ]
  },
  {
   "cell_type": "code",
   "execution_count": 46,
   "id": "c5b670a7",
   "metadata": {},
   "outputs": [
    {
     "name": "stdout",
     "output_type": "stream",
     "text": [
      "Test 1\n",
      "The Predicted Rating is : [1]\n"
     ]
    }
   ],
   "source": [
    "print('Test 1')\n",
    "test1 = [\"Food was really good\"]\n",
    "test_vec = tf.transform(test1)\n",
    "print('The Predicted Rating is :',XGB.predict(test_vec))"
   ]
  },
  {
   "cell_type": "code",
   "execution_count": 47,
   "id": "c67f92a2",
   "metadata": {},
   "outputs": [
    {
     "name": "stdout",
     "output_type": "stream",
     "text": [
      "Test 2\n",
      "The Predicted Rating is : [-1]\n"
     ]
    }
   ],
   "source": [
    "print('Test 2')\n",
    "test2 = [\"natural icecream gave wrong address mistake cancelled order charged food wastage icecream tub returnable charged please help\"]\n",
    "test_vec = tf.transform(test2)\n",
    "print('The Predicted Rating is :',XGB.predict(test_vec))"
   ]
  },
  {
   "cell_type": "code",
   "execution_count": null,
   "id": "7ff3f856",
   "metadata": {},
   "outputs": [],
   "source": []
  }
 ],
 "metadata": {
  "kernelspec": {
   "display_name": "Python 3 (ipykernel)",
   "language": "python",
   "name": "python3"
  },
  "language_info": {
   "codemirror_mode": {
    "name": "ipython",
    "version": 3
   },
   "file_extension": ".py",
   "mimetype": "text/x-python",
   "name": "python",
   "nbconvert_exporter": "python",
   "pygments_lexer": "ipython3",
   "version": "3.9.7"
  }
 },
 "nbformat": 4,
 "nbformat_minor": 5
}
